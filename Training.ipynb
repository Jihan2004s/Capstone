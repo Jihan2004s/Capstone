{
  "nbformat": 4,
  "nbformat_minor": 0,
  "metadata": {
    "colab": {
      "provenance": []
    },
    "kernelspec": {
      "name": "python3",
      "display_name": "Python 3"
    },
    "language_info": {
      "name": "python"
    }
  },
  "cells": [
    {
      "cell_type": "code",
      "execution_count": 113,
      "metadata": {
        "id": "DnVvwb6esIpp"
      },
      "outputs": [],
      "source": [
        "import pickle\n",
        "import pandas as pd\n",
        "import numpy as np\n",
        "import tensorflow as tf\n",
        "import matplotlib.pyplot as plt\n",
        "from tensorflow.keras.utils import to_categorical"
      ]
    },
    {
      "cell_type": "code",
      "source": [
        "EMBEDDING_DIM = 50\n",
        "MAX_LENGTH = 32\n",
        "TRAINING_SPLIT = 0.9\n",
        "NUM_BATCHES = 128"
      ],
      "metadata": {
        "id": "LFoAVQmFtN2w"
      },
      "execution_count": 114,
      "outputs": []
    },
    {
      "cell_type": "code",
      "source": [
        "data_path = \"./augmented_dataset.csv\"\n",
        "df = pd.read_csv(data_path)\n",
        "df.head()"
      ],
      "metadata": {
        "colab": {
          "base_uri": "https://localhost:8080/",
          "height": 206
        },
        "id": "YgXtkJ0etR1W",
        "outputId": "47b19dab-01c2-45f0-9777-944cdc59b99d"
      },
      "execution_count": 115,
      "outputs": [
        {
          "output_type": "execute_result",
          "data": {
            "text/plain": [
              "                 text          label\n",
              "0  Warner Music Group  Entertainment\n",
              "1       night essence  Personal Care\n",
              "2       peel-off mask  Personal Care\n",
              "3            utensils        Housing\n",
              "4             rollers        Housing"
            ],
            "text/html": [
              "\n",
              "  <div id=\"df-3572076e-8b05-4e38-bcc0-7654a63928ad\" class=\"colab-df-container\">\n",
              "    <div>\n",
              "<style scoped>\n",
              "    .dataframe tbody tr th:only-of-type {\n",
              "        vertical-align: middle;\n",
              "    }\n",
              "\n",
              "    .dataframe tbody tr th {\n",
              "        vertical-align: top;\n",
              "    }\n",
              "\n",
              "    .dataframe thead th {\n",
              "        text-align: right;\n",
              "    }\n",
              "</style>\n",
              "<table border=\"1\" class=\"dataframe\">\n",
              "  <thead>\n",
              "    <tr style=\"text-align: right;\">\n",
              "      <th></th>\n",
              "      <th>text</th>\n",
              "      <th>label</th>\n",
              "    </tr>\n",
              "  </thead>\n",
              "  <tbody>\n",
              "    <tr>\n",
              "      <th>0</th>\n",
              "      <td>Warner Music Group</td>\n",
              "      <td>Entertainment</td>\n",
              "    </tr>\n",
              "    <tr>\n",
              "      <th>1</th>\n",
              "      <td>night essence</td>\n",
              "      <td>Personal Care</td>\n",
              "    </tr>\n",
              "    <tr>\n",
              "      <th>2</th>\n",
              "      <td>peel-off mask</td>\n",
              "      <td>Personal Care</td>\n",
              "    </tr>\n",
              "    <tr>\n",
              "      <th>3</th>\n",
              "      <td>utensils</td>\n",
              "      <td>Housing</td>\n",
              "    </tr>\n",
              "    <tr>\n",
              "      <th>4</th>\n",
              "      <td>rollers</td>\n",
              "      <td>Housing</td>\n",
              "    </tr>\n",
              "  </tbody>\n",
              "</table>\n",
              "</div>\n",
              "    <div class=\"colab-df-buttons\">\n",
              "\n",
              "  <div class=\"colab-df-container\">\n",
              "    <button class=\"colab-df-convert\" onclick=\"convertToInteractive('df-3572076e-8b05-4e38-bcc0-7654a63928ad')\"\n",
              "            title=\"Convert this dataframe to an interactive table.\"\n",
              "            style=\"display:none;\">\n",
              "\n",
              "  <svg xmlns=\"http://www.w3.org/2000/svg\" height=\"24px\" viewBox=\"0 -960 960 960\">\n",
              "    <path d=\"M120-120v-720h720v720H120Zm60-500h600v-160H180v160Zm220 220h160v-160H400v160Zm0 220h160v-160H400v160ZM180-400h160v-160H180v160Zm440 0h160v-160H620v160ZM180-180h160v-160H180v160Zm440 0h160v-160H620v160Z\"/>\n",
              "  </svg>\n",
              "    </button>\n",
              "\n",
              "  <style>\n",
              "    .colab-df-container {\n",
              "      display:flex;\n",
              "      gap: 12px;\n",
              "    }\n",
              "\n",
              "    .colab-df-convert {\n",
              "      background-color: #E8F0FE;\n",
              "      border: none;\n",
              "      border-radius: 50%;\n",
              "      cursor: pointer;\n",
              "      display: none;\n",
              "      fill: #1967D2;\n",
              "      height: 32px;\n",
              "      padding: 0 0 0 0;\n",
              "      width: 32px;\n",
              "    }\n",
              "\n",
              "    .colab-df-convert:hover {\n",
              "      background-color: #E2EBFA;\n",
              "      box-shadow: 0px 1px 2px rgba(60, 64, 67, 0.3), 0px 1px 3px 1px rgba(60, 64, 67, 0.15);\n",
              "      fill: #174EA6;\n",
              "    }\n",
              "\n",
              "    .colab-df-buttons div {\n",
              "      margin-bottom: 4px;\n",
              "    }\n",
              "\n",
              "    [theme=dark] .colab-df-convert {\n",
              "      background-color: #3B4455;\n",
              "      fill: #D2E3FC;\n",
              "    }\n",
              "\n",
              "    [theme=dark] .colab-df-convert:hover {\n",
              "      background-color: #434B5C;\n",
              "      box-shadow: 0px 1px 3px 1px rgba(0, 0, 0, 0.15);\n",
              "      filter: drop-shadow(0px 1px 2px rgba(0, 0, 0, 0.3));\n",
              "      fill: #FFFFFF;\n",
              "    }\n",
              "  </style>\n",
              "\n",
              "    <script>\n",
              "      const buttonEl =\n",
              "        document.querySelector('#df-3572076e-8b05-4e38-bcc0-7654a63928ad button.colab-df-convert');\n",
              "      buttonEl.style.display =\n",
              "        google.colab.kernel.accessAllowed ? 'block' : 'none';\n",
              "\n",
              "      async function convertToInteractive(key) {\n",
              "        const element = document.querySelector('#df-3572076e-8b05-4e38-bcc0-7654a63928ad');\n",
              "        const dataTable =\n",
              "          await google.colab.kernel.invokeFunction('convertToInteractive',\n",
              "                                                    [key], {});\n",
              "        if (!dataTable) return;\n",
              "\n",
              "        const docLinkHtml = 'Like what you see? Visit the ' +\n",
              "          '<a target=\"_blank\" href=https://colab.research.google.com/notebooks/data_table.ipynb>data table notebook</a>'\n",
              "          + ' to learn more about interactive tables.';\n",
              "        element.innerHTML = '';\n",
              "        dataTable['output_type'] = 'display_data';\n",
              "        await google.colab.output.renderOutput(dataTable, element);\n",
              "        const docLink = document.createElement('div');\n",
              "        docLink.innerHTML = docLinkHtml;\n",
              "        element.appendChild(docLink);\n",
              "      }\n",
              "    </script>\n",
              "  </div>\n",
              "\n",
              "\n",
              "<div id=\"df-102d6663-8a1b-4bb3-a902-b5ffa9d3ea4a\">\n",
              "  <button class=\"colab-df-quickchart\" onclick=\"quickchart('df-102d6663-8a1b-4bb3-a902-b5ffa9d3ea4a')\"\n",
              "            title=\"Suggest charts\"\n",
              "            style=\"display:none;\">\n",
              "\n",
              "<svg xmlns=\"http://www.w3.org/2000/svg\" height=\"24px\"viewBox=\"0 0 24 24\"\n",
              "     width=\"24px\">\n",
              "    <g>\n",
              "        <path d=\"M19 3H5c-1.1 0-2 .9-2 2v14c0 1.1.9 2 2 2h14c1.1 0 2-.9 2-2V5c0-1.1-.9-2-2-2zM9 17H7v-7h2v7zm4 0h-2V7h2v10zm4 0h-2v-4h2v4z\"/>\n",
              "    </g>\n",
              "</svg>\n",
              "  </button>\n",
              "\n",
              "<style>\n",
              "  .colab-df-quickchart {\n",
              "      --bg-color: #E8F0FE;\n",
              "      --fill-color: #1967D2;\n",
              "      --hover-bg-color: #E2EBFA;\n",
              "      --hover-fill-color: #174EA6;\n",
              "      --disabled-fill-color: #AAA;\n",
              "      --disabled-bg-color: #DDD;\n",
              "  }\n",
              "\n",
              "  [theme=dark] .colab-df-quickchart {\n",
              "      --bg-color: #3B4455;\n",
              "      --fill-color: #D2E3FC;\n",
              "      --hover-bg-color: #434B5C;\n",
              "      --hover-fill-color: #FFFFFF;\n",
              "      --disabled-bg-color: #3B4455;\n",
              "      --disabled-fill-color: #666;\n",
              "  }\n",
              "\n",
              "  .colab-df-quickchart {\n",
              "    background-color: var(--bg-color);\n",
              "    border: none;\n",
              "    border-radius: 50%;\n",
              "    cursor: pointer;\n",
              "    display: none;\n",
              "    fill: var(--fill-color);\n",
              "    height: 32px;\n",
              "    padding: 0;\n",
              "    width: 32px;\n",
              "  }\n",
              "\n",
              "  .colab-df-quickchart:hover {\n",
              "    background-color: var(--hover-bg-color);\n",
              "    box-shadow: 0 1px 2px rgba(60, 64, 67, 0.3), 0 1px 3px 1px rgba(60, 64, 67, 0.15);\n",
              "    fill: var(--button-hover-fill-color);\n",
              "  }\n",
              "\n",
              "  .colab-df-quickchart-complete:disabled,\n",
              "  .colab-df-quickchart-complete:disabled:hover {\n",
              "    background-color: var(--disabled-bg-color);\n",
              "    fill: var(--disabled-fill-color);\n",
              "    box-shadow: none;\n",
              "  }\n",
              "\n",
              "  .colab-df-spinner {\n",
              "    border: 2px solid var(--fill-color);\n",
              "    border-color: transparent;\n",
              "    border-bottom-color: var(--fill-color);\n",
              "    animation:\n",
              "      spin 1s steps(1) infinite;\n",
              "  }\n",
              "\n",
              "  @keyframes spin {\n",
              "    0% {\n",
              "      border-color: transparent;\n",
              "      border-bottom-color: var(--fill-color);\n",
              "      border-left-color: var(--fill-color);\n",
              "    }\n",
              "    20% {\n",
              "      border-color: transparent;\n",
              "      border-left-color: var(--fill-color);\n",
              "      border-top-color: var(--fill-color);\n",
              "    }\n",
              "    30% {\n",
              "      border-color: transparent;\n",
              "      border-left-color: var(--fill-color);\n",
              "      border-top-color: var(--fill-color);\n",
              "      border-right-color: var(--fill-color);\n",
              "    }\n",
              "    40% {\n",
              "      border-color: transparent;\n",
              "      border-right-color: var(--fill-color);\n",
              "      border-top-color: var(--fill-color);\n",
              "    }\n",
              "    60% {\n",
              "      border-color: transparent;\n",
              "      border-right-color: var(--fill-color);\n",
              "    }\n",
              "    80% {\n",
              "      border-color: transparent;\n",
              "      border-right-color: var(--fill-color);\n",
              "      border-bottom-color: var(--fill-color);\n",
              "    }\n",
              "    90% {\n",
              "      border-color: transparent;\n",
              "      border-bottom-color: var(--fill-color);\n",
              "    }\n",
              "  }\n",
              "</style>\n",
              "\n",
              "  <script>\n",
              "    async function quickchart(key) {\n",
              "      const quickchartButtonEl =\n",
              "        document.querySelector('#' + key + ' button');\n",
              "      quickchartButtonEl.disabled = true;  // To prevent multiple clicks.\n",
              "      quickchartButtonEl.classList.add('colab-df-spinner');\n",
              "      try {\n",
              "        const charts = await google.colab.kernel.invokeFunction(\n",
              "            'suggestCharts', [key], {});\n",
              "      } catch (error) {\n",
              "        console.error('Error during call to suggestCharts:', error);\n",
              "      }\n",
              "      quickchartButtonEl.classList.remove('colab-df-spinner');\n",
              "      quickchartButtonEl.classList.add('colab-df-quickchart-complete');\n",
              "    }\n",
              "    (() => {\n",
              "      let quickchartButtonEl =\n",
              "        document.querySelector('#df-102d6663-8a1b-4bb3-a902-b5ffa9d3ea4a button');\n",
              "      quickchartButtonEl.style.display =\n",
              "        google.colab.kernel.accessAllowed ? 'block' : 'none';\n",
              "    })();\n",
              "  </script>\n",
              "</div>\n",
              "\n",
              "    </div>\n",
              "  </div>\n"
            ],
            "application/vnd.google.colaboratory.intrinsic+json": {
              "type": "dataframe",
              "variable_name": "df",
              "summary": "{\n  \"name\": \"df\",\n  \"rows\": 3194,\n  \"fields\": [\n    {\n      \"column\": \"text\",\n      \"properties\": {\n        \"dtype\": \"category\",\n        \"num_unique_values\": 1283,\n        \"samples\": [\n          \"Island Records\",\n          \"security system monitoring\",\n          \"Taxi fare\"\n        ],\n        \"semantic_type\": \"\",\n        \"description\": \"\"\n      }\n    },\n    {\n      \"column\": \"label\",\n      \"properties\": {\n        \"dtype\": \"category\",\n        \"num_unique_values\": 10,\n        \"samples\": [\n          \"Transportation\",\n          \"Personal Care\",\n          \"Food\"\n        ],\n        \"semantic_type\": \"\",\n        \"description\": \"\"\n      }\n    }\n  ]\n}"
            }
          },
          "metadata": {},
          "execution_count": 115
        }
      ]
    },
    {
      "cell_type": "code",
      "source": [
        "label_encoder = LabelEncoder()\n",
        "\n",
        "# 3. Ubah kolom 'Label' dari teks ke angka\n",
        "df['Label_Encoded'] = label_encoder.fit_transform(df['label'])\n",
        "\n",
        "\n",
        "# 4. Lihat hasilnya\n",
        "print(df)\n",
        "\n",
        "# 5. (Opsional) Lihat mapping antara label teks dan angka\n",
        "print(\"Mapping Label Teks ke Angka:\")"
      ],
      "metadata": {
        "colab": {
          "base_uri": "https://localhost:8080/"
        },
        "id": "-DC1SQTOAR6n",
        "outputId": "7591eccb-2412-4f1b-b988-6545404f84a1"
      },
      "execution_count": 116,
      "outputs": [
        {
          "output_type": "stream",
          "name": "stdout",
          "text": [
            "                    text          label  Label_Encoded\n",
            "0     Warner Music Group  Entertainment              1\n",
            "1          night essence  Personal Care              6\n",
            "2          peel-off mask  Personal Care              6\n",
            "3               utensils        Housing              3\n",
            "4                rollers        Housing              3\n",
            "...                  ...            ...            ...\n",
            "3189      safety goggles        Housing              3\n",
            "3190               razor        Housing              3\n",
            "3191  disinfectant wipes        Housing              3\n",
            "3192           Frito-Lay           Food              2\n",
            "3193        paper towels        Housing              3\n",
            "\n",
            "[3194 rows x 3 columns]\n",
            "Mapping Label Teks ke Angka:\n"
          ]
        }
      ]
    },
    {
      "cell_type": "code",
      "source": [
        "labels = df['Label_Encoded'].to_numpy()\n",
        "# Since the original dataset does not provide headers,\n",
        "# you need to index the columns by their index.\n",
        "# df has only 2 columns, indexed by 0 and 1.\n",
        "# Assuming the text data is in the second column (index 1):\n",
        "sentences = df['text'].to_numpy()\n",
        "\n",
        "# Create the dataset\n",
        "dataset = tf.data.Dataset.from_tensor_slices((sentences, labels))\n",
        "\n",
        "# Get the first 5 elements of the dataset\n",
        "examples = list(dataset.take(5))\n",
        "\n",
        "print(f\"dataset contains {len(dataset)} examples\\n\")\n",
        "\n",
        "print(f\"Text of second example look like this: {examples[1][0].numpy().decode('utf-8')}\\n\")\n",
        "print(f\"Labels of first 5 examples look like this: {[x[1].numpy() for x in examples]}\")"
      ],
      "metadata": {
        "colab": {
          "base_uri": "https://localhost:8080/"
        },
        "id": "JtJpELAxtZU3",
        "outputId": "01106e4e-34c8-4d88-c1b8-95e96bf64dad"
      },
      "execution_count": 117,
      "outputs": [
        {
          "output_type": "stream",
          "name": "stdout",
          "text": [
            "dataset contains 3194 examples\n",
            "\n",
            "Text of second example look like this: night essence\n",
            "\n",
            "Labels of first 5 examples look like this: [1, 6, 6, 3, 3]\n"
          ]
        }
      ]
    },
    {
      "cell_type": "code",
      "source": [
        "# GRADED FUNCTION: train_val_datasets\n",
        "\n",
        "def train_val_datasets(dataset):\n",
        "    \"\"\"\n",
        "    Splits the dataset into training and validation sets, after shuffling it.\n",
        "\n",
        "    Args:\n",
        "        dataset (tf.data.Dataset): Tensorflow dataset with elements as (sentence, label)\n",
        "\n",
        "    Returns:\n",
        "        (tf.data.Dataset, tf.data.Dataset): tuple containing the train and validation datasets\n",
        "    \"\"\"\n",
        "    ### START CODE HERE ###\n",
        "\n",
        "    # Compute the number of sentences that will be used for training (should be an integer)\n",
        "    train_size = int(len(dataset) * TRAINING_SPLIT)\n",
        "\n",
        "    # Split the sentences and labels into train/validation splits\n",
        "    train_dataset = dataset.take(train_size)\n",
        "    validation_dataset = dataset.skip(train_size)\n",
        "\n",
        "    # Turn the dataset into a batched dataset with num_batches batches\n",
        "    train_dataset = train_dataset.batch(NUM_BATCHES)\n",
        "    validation_dataset = validation_dataset.batch(NUM_BATCHES)\n",
        "\n",
        "    ### END CODE HERE ###\n",
        "\n",
        "    return train_dataset, validation_dataset"
      ],
      "metadata": {
        "id": "oaKLzC0Vvk8Q"
      },
      "execution_count": 118,
      "outputs": []
    },
    {
      "cell_type": "code",
      "source": [
        "# Create the train and validation datasets\n",
        "train_dataset, validation_dataset = train_val_datasets(dataset)\n",
        "\n",
        "print(f\"There are {len(train_dataset)} batches for a total of {NUM_BATCHES*len(train_dataset)} elements for training.\\n\")\n",
        "print(f\"There are {len(validation_dataset)} batches for a total of {NUM_BATCHES*len(validation_dataset)} elements for validation.\\n\")"
      ],
      "metadata": {
        "colab": {
          "base_uri": "https://localhost:8080/"
        },
        "id": "rXyI15aPvrPX",
        "outputId": "7812d39c-5229-4f00-9a1f-2b07fefd5aa8"
      },
      "execution_count": 119,
      "outputs": [
        {
          "output_type": "stream",
          "name": "stdout",
          "text": [
            "There are 23 batches for a total of 2944 elements for training.\n",
            "\n",
            "There are 3 batches for a total of 384 elements for validation.\n",
            "\n"
          ]
        }
      ]
    },
    {
      "cell_type": "code",
      "source": [
        "# GRADED FUNCTION: fit_vectorizer\n",
        "\n",
        "def fit_vectorizer(dataset):\n",
        "    \"\"\"\n",
        "    Adapts the TextVectorization layer on the training sentences\n",
        "\n",
        "    Args:\n",
        "        dataset (tf.data.Dataset): Tensorflow dataset with training sentences.\n",
        "\n",
        "    Returns:\n",
        "        tf.keras.layers.TextVectorization: an instance of the TextVectorization class adapted to the training sentences.\n",
        "    \"\"\"\n",
        "\n",
        "    ### START CODE HERE ###\n",
        "\n",
        "    # Instantiate the TextVectorization class, defining the necessary arguments alongside their corresponding values\n",
        "    vectorizer = tf.keras.layers.TextVectorization(\n",
        "        output_sequence_length=MAX_LENGTH,  # Desired length of output sequences\n",
        "    )\n",
        "\n",
        "    # Fit the tokenizer to the training sentences\n",
        "    vectorizer.adapt(dataset)\n",
        "\n",
        "    ### END CODE HERE ###\n",
        "\n",
        "    return vectorizer"
      ],
      "metadata": {
        "id": "F5kOS4Xjvx-S"
      },
      "execution_count": 120,
      "outputs": []
    },
    {
      "cell_type": "code",
      "source": [
        "# Get only the texts out of the dataset\n",
        "text_only_dataset = train_dataset.map(lambda text, label: text)\n",
        "\n",
        "# Adapt the vectorizer to the training sentences\n",
        "vectorizer = fit_vectorizer(text_only_dataset)\n",
        "\n",
        "# Check size of vocabulary\n",
        "vocab_size = vectorizer.vocabulary_size()\n",
        "\n",
        "print(f\"Vocabulary contains {vocab_size} words\\n\")"
      ],
      "metadata": {
        "colab": {
          "base_uri": "https://localhost:8080/"
        },
        "id": "pPMoX-1yvzGh",
        "outputId": "93cdded6-bc04-420d-cc32-fcaa6eea5015"
      },
      "execution_count": 121,
      "outputs": [
        {
          "output_type": "stream",
          "name": "stdout",
          "text": [
            "Vocabulary contains 1330 words\n",
            "\n"
          ]
        }
      ]
    },
    {
      "cell_type": "code",
      "source": [
        "# Apply vectorization to train and val datasets\n",
        "train_dataset_vectorized = train_dataset.map(lambda x,y: (vectorizer(x), y))\n",
        "validation_dataset_vectorized = validation_dataset.map(lambda x,y: (vectorizer(x), y))"
      ],
      "metadata": {
        "id": "yw9gfjdCv5sr"
      },
      "execution_count": 122,
      "outputs": []
    },
    {
      "cell_type": "code",
      "source": [
        "# Define path to file containing the embeddings\n",
        "glove_file = './glove.6B.50d.txt'\n",
        "\n",
        "# Initialize an empty embeddings index dictionary\n",
        "glove_embeddings = {}\n",
        "\n",
        "# Read file and fill glove_embeddings with its contents\n",
        "with open(glove_file) as f:\n",
        "    for line in f:\n",
        "        values = line.split()\n",
        "        word = values[0]\n",
        "        coefs = np.asarray(values[1:], dtype='float32')\n",
        "        glove_embeddings[word] = coefs"
      ],
      "metadata": {
        "id": "ckUXMPhcwK6I"
      },
      "execution_count": 123,
      "outputs": []
    },
    {
      "cell_type": "code",
      "source": [
        "test_word = 'tofu'\n",
        "\n",
        "test_vector = glove_embeddings[test_word]\n",
        "\n",
        "print(f\"Vector representation of word {test_word} looks like this:\\n\\n{test_vector}\")"
      ],
      "metadata": {
        "colab": {
          "base_uri": "https://localhost:8080/"
        },
        "id": "6c5avbdGwglO",
        "outputId": "0f91641a-dea9-4623-a71a-cac600b17c37"
      },
      "execution_count": 124,
      "outputs": [
        {
          "output_type": "stream",
          "name": "stdout",
          "text": [
            "Vector representation of word tofu looks like this:\n",
            "\n",
            "[ 0.20942  -0.98482  -1.2391    0.40805   0.40512   0.39992   0.39522\n",
            " -0.24839  -0.24858   0.80005   0.086777  0.15108   1.1969    0.64186\n",
            "  0.24014   0.31678   0.26551   0.21263   0.584    -0.18068   0.76082\n",
            " -0.59783   1.3591    0.4671   -0.63289   0.34119  -0.026011  0.80676\n",
            "  0.76717  -1.0371    0.43321  -0.41427  -0.017847  1.4874   -0.70328\n",
            " -0.04138  -0.70141   1.2587    0.97321  -0.19749   0.83928  -0.062772\n",
            "  0.15655   0.35019   1.6126    0.42649   0.33556   0.03666  -0.32958\n",
            "  0.66026 ]\n"
          ]
        }
      ]
    },
    {
      "cell_type": "code",
      "source": [
        "print(f\"Each word vector has shape: {test_vector.shape}\")"
      ],
      "metadata": {
        "colab": {
          "base_uri": "https://localhost:8080/"
        },
        "id": "NmMuiAYAwnHI",
        "outputId": "1fcf8107-491e-49da-dd9c-0aa4d40f895f"
      },
      "execution_count": 125,
      "outputs": [
        {
          "output_type": "stream",
          "name": "stdout",
          "text": [
            "Each word vector has shape: (50,)\n"
          ]
        }
      ]
    },
    {
      "cell_type": "code",
      "source": [
        "# Create a word index dictionary\n",
        "word_index = {x:i for i,x in enumerate(vectorizer.get_vocabulary())}\n",
        "\n",
        "print(f\"The word tofu is encoded as: {word_index['tofu']}\")"
      ],
      "metadata": {
        "colab": {
          "base_uri": "https://localhost:8080/"
        },
        "id": "4WvTOtNQwsoz",
        "outputId": "31d96daa-6678-4d2e-fb8f-31ac80e6db62"
      },
      "execution_count": 126,
      "outputs": [
        {
          "output_type": "stream",
          "name": "stdout",
          "text": [
            "The word tofu is encoded as: 484\n"
          ]
        }
      ]
    },
    {
      "cell_type": "code",
      "source": [
        "# Initialize an empty numpy array with the appropriate size\n",
        "embeddings_matrix = np.zeros((vocab_size, EMBEDDING_DIM))\n",
        "\n",
        "# Iterate all of the words in the vocabulary and if the vector representation for\n",
        "# each word exists within GloVe's representations, save it in the embeddings_matrix array\n",
        "for word, i in word_index.items():\n",
        "    embedding_vector = glove_embeddings.get(word)\n",
        "    if embedding_vector is not None:\n",
        "        embeddings_matrix[i] = embedding_vector"
      ],
      "metadata": {
        "id": "63JtKrqOw1t4"
      },
      "execution_count": 127,
      "outputs": []
    },
    {
      "cell_type": "code",
      "source": [
        "test_word = 'tofu'\n",
        "\n",
        "test_word_id = word_index[test_word]\n",
        "\n",
        "test_vector_tofu = glove_embeddings[test_word]\n",
        "\n",
        "test_embedding_tofu = embeddings_matrix[test_word_id]\n",
        "\n",
        "both_equal = np.allclose(test_vector_tofu,test_embedding_tofu)\n",
        "\n",
        "print(f\"word: {test_word}, index: {test_word_id}\\n\\nEmbedding is equal to column {test_word_id} in the embeddings_matrix: {both_equal}\")"
      ],
      "metadata": {
        "colab": {
          "base_uri": "https://localhost:8080/"
        },
        "id": "9bNj7Q8GxIeW",
        "outputId": "f91b998c-183f-4e9c-9930-a25a2b82b053"
      },
      "execution_count": 128,
      "outputs": [
        {
          "output_type": "stream",
          "name": "stdout",
          "text": [
            "word: tofu, index: 484\n",
            "\n",
            "Embedding is equal to column 484 in the embeddings_matrix: True\n"
          ]
        }
      ]
    },
    {
      "cell_type": "code",
      "source": [
        "def create_model(vocab_size, embedding_dim, embedding_matrix):\n",
        "    \"\"\"\n",
        "    Creates a text classification model.\n",
        "\n",
        "    Args:\n",
        "        vocab_size (int): Size of the vocabulary.\n",
        "        embedding_dim (int): Dimension of the word embeddings.\n",
        "        embedding_matrix (np.ndarray): Pre-trained embedding matrix.\n",
        "\n",
        "    Returns:\n",
        "        tf.keras.Model: The compiled text classification model.\n",
        "    \"\"\"\n",
        "    model = tf.keras.Sequential([\n",
        "        tf.keras.layers.Embedding(vocab_size,\n",
        "                                  embedding_dim,\n",
        "                                  embeddings_initializer=tf.keras.initializers.Constant(embedding_matrix),\n",
        "                                  trainable=False, # Keep the embeddings fixed\n",
        "                                  mask_zero=True), # Use masking to handle variable sequence lengths\n",
        "        tf.keras.layers.Bidirectional(tf.keras.layers.LSTM(64)), # Use a bidirectional LSTM for better context understanding\n",
        "        tf.keras.layers.Dense(64, activation='relu'), # Add a dense layer for feature extraction\n",
        "        tf.keras.layers.Dense(10, activation='softmax') # Output layer with softmax for multi-class classification\n",
        "    ])\n",
        "\n",
        "    # Compile the model with an appropriate loss function and optimizer\n",
        "    model.compile(loss='sparse_categorical_crossentropy', # Use categorical_crossentropy for multi-class problems\n",
        "                  optimizer='adam',\n",
        "                  metrics=['accuracy'])\n",
        "\n",
        "    return model"
      ],
      "metadata": {
        "id": "G-m9WHV2xWGx"
      },
      "execution_count": 129,
      "outputs": []
    },
    {
      "cell_type": "code",
      "source": [
        "model = create_model(vocab_size, EMBEDDING_DIM, embeddings_matrix)"
      ],
      "metadata": {
        "id": "UgEbeizixkTW"
      },
      "execution_count": 130,
      "outputs": []
    },
    {
      "cell_type": "code",
      "source": [
        "# Take an example batch of data\n",
        "example_batch = train_dataset_vectorized.take(1)\n",
        "\n",
        "try:\n",
        "\tmodel.evaluate(example_batch, verbose=False)\n",
        "except:\n",
        "\tprint(\"Your model is not compatible with the dataset you defined earlier. Check that the loss function and last layer are compatible with one another.\")\n",
        "else:\n",
        "\tpredictions = model.predict(example_batch, verbose=False)\n",
        "\tprint(f\"predictions have shape: {predictions.shape}\")"
      ],
      "metadata": {
        "colab": {
          "base_uri": "https://localhost:8080/"
        },
        "id": "qwEJFaqfxtki",
        "outputId": "9061c4b1-331e-4fb7-de83-dd62c4e5651e"
      },
      "execution_count": 131,
      "outputs": [
        {
          "output_type": "stream",
          "name": "stdout",
          "text": [
            "predictions have shape: (128, 10)\n"
          ]
        }
      ]
    },
    {
      "cell_type": "code",
      "source": [
        "# Train the model and save the training history\n",
        "history = model.fit(\n",
        "\ttrain_dataset_vectorized,\n",
        "\tepochs=20,\n",
        "\tvalidation_data=validation_dataset_vectorized\n",
        ")"
      ],
      "metadata": {
        "colab": {
          "base_uri": "https://localhost:8080/"
        },
        "id": "c7PQgh2ZD3Z5",
        "outputId": "ba3e815e-165c-4365-bc88-afd6331b3257"
      },
      "execution_count": 132,
      "outputs": [
        {
          "output_type": "stream",
          "name": "stdout",
          "text": [
            "Epoch 1/20\n",
            "\u001b[1m23/23\u001b[0m \u001b[32m━━━━━━━━━━━━━━━━━━━━\u001b[0m\u001b[37m\u001b[0m \u001b[1m6s\u001b[0m 96ms/step - accuracy: 0.2783 - loss: 2.1864 - val_accuracy: 0.5250 - val_loss: 1.7044\n",
            "Epoch 2/20\n",
            "\u001b[1m23/23\u001b[0m \u001b[32m━━━━━━━━━━━━━━━━━━━━\u001b[0m\u001b[37m\u001b[0m \u001b[1m2s\u001b[0m 99ms/step - accuracy: 0.6097 - loss: 1.5136 - val_accuracy: 0.6969 - val_loss: 1.1029\n",
            "Epoch 3/20\n",
            "\u001b[1m23/23\u001b[0m \u001b[32m━━━━━━━━━━━━━━━━━━━━\u001b[0m\u001b[37m\u001b[0m \u001b[1m4s\u001b[0m 187ms/step - accuracy: 0.7073 - loss: 1.0027 - val_accuracy: 0.7844 - val_loss: 0.8392\n",
            "Epoch 4/20\n",
            "\u001b[1m23/23\u001b[0m \u001b[32m━━━━━━━━━━━━━━━━━━━━\u001b[0m\u001b[37m\u001b[0m \u001b[1m3s\u001b[0m 96ms/step - accuracy: 0.7830 - loss: 0.7733 - val_accuracy: 0.8094 - val_loss: 0.7112\n",
            "Epoch 5/20\n",
            "\u001b[1m23/23\u001b[0m \u001b[32m━━━━━━━━━━━━━━━━━━━━\u001b[0m\u001b[37m\u001b[0m \u001b[1m2s\u001b[0m 95ms/step - accuracy: 0.8176 - loss: 0.6476 - val_accuracy: 0.8219 - val_loss: 0.6320\n",
            "Epoch 6/20\n",
            "\u001b[1m23/23\u001b[0m \u001b[32m━━━━━━━━━━━━━━━━━━━━\u001b[0m\u001b[37m\u001b[0m \u001b[1m2s\u001b[0m 98ms/step - accuracy: 0.8475 - loss: 0.5581 - val_accuracy: 0.8438 - val_loss: 0.5746\n",
            "Epoch 7/20\n",
            "\u001b[1m23/23\u001b[0m \u001b[32m━━━━━━━━━━━━━━━━━━━━\u001b[0m\u001b[37m\u001b[0m \u001b[1m2s\u001b[0m 96ms/step - accuracy: 0.8690 - loss: 0.4882 - val_accuracy: 0.8531 - val_loss: 0.5268\n",
            "Epoch 8/20\n",
            "\u001b[1m23/23\u001b[0m \u001b[32m━━━━━━━━━━━━━━━━━━━━\u001b[0m\u001b[37m\u001b[0m \u001b[1m4s\u001b[0m 173ms/step - accuracy: 0.8802 - loss: 0.4311 - val_accuracy: 0.8562 - val_loss: 0.4815\n",
            "Epoch 9/20\n",
            "\u001b[1m23/23\u001b[0m \u001b[32m━━━━━━━━━━━━━━━━━━━━\u001b[0m\u001b[37m\u001b[0m \u001b[1m3s\u001b[0m 95ms/step - accuracy: 0.8952 - loss: 0.3822 - val_accuracy: 0.8750 - val_loss: 0.4391\n",
            "Epoch 10/20\n",
            "\u001b[1m23/23\u001b[0m \u001b[32m━━━━━━━━━━━━━━━━━━━━\u001b[0m\u001b[37m\u001b[0m \u001b[1m2s\u001b[0m 94ms/step - accuracy: 0.9025 - loss: 0.3389 - val_accuracy: 0.8906 - val_loss: 0.4017\n",
            "Epoch 11/20\n",
            "\u001b[1m23/23\u001b[0m \u001b[32m━━━━━━━━━━━━━━━━━━━━\u001b[0m\u001b[37m\u001b[0m \u001b[1m2s\u001b[0m 98ms/step - accuracy: 0.9160 - loss: 0.3030 - val_accuracy: 0.9000 - val_loss: 0.3687\n",
            "Epoch 12/20\n",
            "\u001b[1m23/23\u001b[0m \u001b[32m━━━━━━━━━━━━━━━━━━━━\u001b[0m\u001b[37m\u001b[0m \u001b[1m3s\u001b[0m 96ms/step - accuracy: 0.9201 - loss: 0.2745 - val_accuracy: 0.9031 - val_loss: 0.3403\n",
            "Epoch 13/20\n",
            "\u001b[1m23/23\u001b[0m \u001b[32m━━━━━━━━━━━━━━━━━━━━\u001b[0m\u001b[37m\u001b[0m \u001b[1m4s\u001b[0m 171ms/step - accuracy: 0.9301 - loss: 0.2509 - val_accuracy: 0.9031 - val_loss: 0.3145\n",
            "Epoch 14/20\n",
            "\u001b[1m23/23\u001b[0m \u001b[32m━━━━━━━━━━━━━━━━━━━━\u001b[0m\u001b[37m\u001b[0m \u001b[1m3s\u001b[0m 95ms/step - accuracy: 0.9372 - loss: 0.2314 - val_accuracy: 0.9156 - val_loss: 0.2923\n",
            "Epoch 15/20\n",
            "\u001b[1m23/23\u001b[0m \u001b[32m━━━━━━━━━━━━━━━━━━━━\u001b[0m\u001b[37m\u001b[0m \u001b[1m2s\u001b[0m 96ms/step - accuracy: 0.9421 - loss: 0.2148 - val_accuracy: 0.9281 - val_loss: 0.2728\n",
            "Epoch 16/20\n",
            "\u001b[1m23/23\u001b[0m \u001b[32m━━━━━━━━━━━━━━━━━━━━\u001b[0m\u001b[37m\u001b[0m \u001b[1m2s\u001b[0m 96ms/step - accuracy: 0.9483 - loss: 0.2007 - val_accuracy: 0.9312 - val_loss: 0.2557\n",
            "Epoch 17/20\n",
            "\u001b[1m23/23\u001b[0m \u001b[32m━━━━━━━━━━━━━━━━━━━━\u001b[0m\u001b[37m\u001b[0m \u001b[1m2s\u001b[0m 97ms/step - accuracy: 0.9528 - loss: 0.1883 - val_accuracy: 0.9312 - val_loss: 0.2400\n",
            "Epoch 18/20\n",
            "\u001b[1m23/23\u001b[0m \u001b[32m━━━━━━━━━━━━━━━━━━━━\u001b[0m\u001b[37m\u001b[0m \u001b[1m3s\u001b[0m 151ms/step - accuracy: 0.9536 - loss: 0.1775 - val_accuracy: 0.9375 - val_loss: 0.2268\n",
            "Epoch 19/20\n",
            "\u001b[1m23/23\u001b[0m \u001b[32m━━━━━━━━━━━━━━━━━━━━\u001b[0m\u001b[37m\u001b[0m \u001b[1m4s\u001b[0m 94ms/step - accuracy: 0.9550 - loss: 0.1679 - val_accuracy: 0.9469 - val_loss: 0.2140\n",
            "Epoch 20/20\n",
            "\u001b[1m23/23\u001b[0m \u001b[32m━━━━━━━━━━━━━━━━━━━━\u001b[0m\u001b[37m\u001b[0m \u001b[1m2s\u001b[0m 96ms/step - accuracy: 0.9573 - loss: 0.1593 - val_accuracy: 0.9531 - val_loss: 0.2037\n"
          ]
        }
      ]
    },
    {
      "cell_type": "code",
      "source": [
        "# Get training and validation accuracies\n",
        "acc = history.history['accuracy']\n",
        "val_acc = history.history['val_accuracy']\n",
        "loss = history.history['loss']\n",
        "val_loss = history.history['val_loss']\n",
        "\n",
        "# Get number of epochs\n",
        "epochs = range(len(acc))\n",
        "\n",
        "fig, ax = plt.subplots(1, 2, figsize=(10, 5))\n",
        "fig.suptitle('Training and validation performance')\n",
        "\n",
        "for i, (data, label) in enumerate(zip([(acc, val_acc), (loss, val_loss)], [\"Accuracy\", \"Loss\"])):\n",
        "    ax[i].plot(epochs, data[0], 'r', label=\"Training \" + label)\n",
        "    ax[i].plot(epochs, data[1], 'b', label=\"Validation \" + label)\n",
        "    ax[i].legend()\n",
        "    ax[i].set_xlabel('epochs')"
      ],
      "metadata": {
        "colab": {
          "base_uri": "https://localhost:8080/",
          "height": 396
        },
        "id": "gx-R_tAiEJmZ",
        "outputId": "53f99f88-f031-4c3c-c06c-fa914068ed4b"
      },
      "execution_count": 133,
      "outputs": [
        {
          "output_type": "display_data",
          "data": {
            "text/plain": [
              "<Figure size 1000x500 with 2 Axes>"
            ],
            "image/png": "[encoded data removed]"
          },
          "metadata": {}
        }
      ]
    }
  ]
}