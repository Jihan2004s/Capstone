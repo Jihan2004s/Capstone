{
  "nbformat": 4,
  "nbformat_minor": 0,
  "metadata": {
    "colab": {
      "provenance": []
    },
    "kernelspec": {
      "name": "python3",
      "display_name": "Python 3"
    },
    "language_info": {
      "name": "python"
    }
  },
  "cells": [
    {
      "cell_type": "code",
      "execution_count": 11,
      "metadata": {
        "id": "DnVvwb6esIpp"
      },
      "outputs": [],
      "source": [
        "import pickle\n",
        "import pandas as pd\n",
        "import numpy as np\n",
        "import tensorflow as tf\n",
        "import matplotlib.pyplot as plt\n",
        "from sklearn.preprocessing import LabelEncoder\n",
        "from sklearn.utils import shuffle\n",
        "from tensorflow.keras.preprocessing.text import Tokenizer\n",
        "from tensorflow.keras.preprocessing.sequence import pad_sequences"
      ]
    },
    {
      "cell_type": "code",
      "source": [
        "EMBEDDING_DIM = 100\n",
        "MAX_LENGTH = 32\n",
        "TRAINING_SPLIT = 0.9\n",
        "NUM_BATCHES = 128"
      ],
      "metadata": {
        "id": "LFoAVQmFtN2w"
      },
      "execution_count": 2,
      "outputs": []
    },
    {
      "cell_type": "code",
      "source": [
        "data_path = \"./data.csv\"\n",
        "df = pd.read_csv(data_path, encoding='latin-1')\n",
        "df.head()"
      ],
      "metadata": {
        "colab": {
          "base_uri": "https://localhost:8080/",
          "height": 206
        },
        "id": "YgXtkJ0etR1W",
        "outputId": "61cb4eeb-a020-4b28-ac87-55d7ac8673c8"
      },
      "execution_count": 3,
      "outputs": [
        {
          "output_type": "execute_result",
          "data": {
            "text/plain": [
              "              Description Category          Sub_Category\n",
              "0                  Arby's     Food  FastFood_Restaurants\n",
              "1             Burger King     Food  FastFood_Restaurants\n",
              "2              Carl's Jr.     Food  FastFood_Restaurants\n",
              "3             Chick-fil-A     Food  FastFood_Restaurants\n",
              "4  Chipotle Mexican Grill     Food  FastFood_Restaurants"
            ],
            "text/html": [
              "\n",
              "  <div id=\"df-907f3617-87a2-4b70-b9bd-9e7f489c3c9e\" class=\"colab-df-container\">\n",
              "    <div>\n",
              "<style scoped>\n",
              "    .dataframe tbody tr th:only-of-type {\n",
              "        vertical-align: middle;\n",
              "    }\n",
              "\n",
              "    .dataframe tbody tr th {\n",
              "        vertical-align: top;\n",
              "    }\n",
              "\n",
              "    .dataframe thead th {\n",
              "        text-align: right;\n",
              "    }\n",
              "</style>\n",
              "<table border=\"1\" class=\"dataframe\">\n",
              "  <thead>\n",
              "    <tr style=\"text-align: right;\">\n",
              "      <th></th>\n",
              "      <th>Description</th>\n",
              "      <th>Category</th>\n",
              "      <th>Sub_Category</th>\n",
              "    </tr>\n",
              "  </thead>\n",
              "  <tbody>\n",
              "    <tr>\n",
              "      <th>0</th>\n",
              "      <td>Arby's</td>\n",
              "      <td>Food</td>\n",
              "      <td>FastFood_Restaurants</td>\n",
              "    </tr>\n",
              "    <tr>\n",
              "      <th>1</th>\n",
              "      <td>Burger King</td>\n",
              "      <td>Food</td>\n",
              "      <td>FastFood_Restaurants</td>\n",
              "    </tr>\n",
              "    <tr>\n",
              "      <th>2</th>\n",
              "      <td>Carl's Jr.</td>\n",
              "      <td>Food</td>\n",
              "      <td>FastFood_Restaurants</td>\n",
              "    </tr>\n",
              "    <tr>\n",
              "      <th>3</th>\n",
              "      <td>Chick-fil-A</td>\n",
              "      <td>Food</td>\n",
              "      <td>FastFood_Restaurants</td>\n",
              "    </tr>\n",
              "    <tr>\n",
              "      <th>4</th>\n",
              "      <td>Chipotle Mexican Grill</td>\n",
              "      <td>Food</td>\n",
              "      <td>FastFood_Restaurants</td>\n",
              "    </tr>\n",
              "  </tbody>\n",
              "</table>\n",
              "</div>\n",
              "    <div class=\"colab-df-buttons\">\n",
              "\n",
              "  <div class=\"colab-df-container\">\n",
              "    <button class=\"colab-df-convert\" onclick=\"convertToInteractive('df-907f3617-87a2-4b70-b9bd-9e7f489c3c9e')\"\n",
              "            title=\"Convert this dataframe to an interactive table.\"\n",
              "            style=\"display:none;\">\n",
              "\n",
              "  <svg xmlns=\"http://www.w3.org/2000/svg\" height=\"24px\" viewBox=\"0 -960 960 960\">\n",
              "    <path d=\"M120-120v-720h720v720H120Zm60-500h600v-160H180v160Zm220 220h160v-160H400v160Zm0 220h160v-160H400v160ZM180-400h160v-160H180v160Zm440 0h160v-160H620v160ZM180-180h160v-160H180v160Zm440 0h160v-160H620v160Z\"/>\n",
              "  </svg>\n",
              "    </button>\n",
              "\n",
              "  <style>\n",
              "    .colab-df-container {\n",
              "      display:flex;\n",
              "      gap: 12px;\n",
              "    }\n",
              "\n",
              "    .colab-df-convert {\n",
              "      background-color: #E8F0FE;\n",
              "      border: none;\n",
              "      border-radius: 50%;\n",
              "      cursor: pointer;\n",
              "      display: none;\n",
              "      fill: #1967D2;\n",
              "      height: 32px;\n",
              "      padding: 0 0 0 0;\n",
              "      width: 32px;\n",
              "    }\n",
              "\n",
              "    .colab-df-convert:hover {\n",
              "      background-color: #E2EBFA;\n",
              "      box-shadow: 0px 1px 2px rgba(60, 64, 67, 0.3), 0px 1px 3px 1px rgba(60, 64, 67, 0.15);\n",
              "      fill: #174EA6;\n",
              "    }\n",
              "\n",
              "    .colab-df-buttons div {\n",
              "      margin-bottom: 4px;\n",
              "    }\n",
              "\n",
              "    [theme=dark] .colab-df-convert {\n",
              "      background-color: #3B4455;\n",
              "      fill: #D2E3FC;\n",
              "    }\n",
              "\n",
              "    [theme=dark] .colab-df-convert:hover {\n",
              "      background-color: #434B5C;\n",
              "      box-shadow: 0px 1px 3px 1px rgba(0, 0, 0, 0.15);\n",
              "      filter: drop-shadow(0px 1px 2px rgba(0, 0, 0, 0.3));\n",
              "      fill: #FFFFFF;\n",
              "    }\n",
              "  </style>\n",
              "\n",
              "    <script>\n",
              "      const buttonEl =\n",
              "        document.querySelector('#df-907f3617-87a2-4b70-b9bd-9e7f489c3c9e button.colab-df-convert');\n",
              "      buttonEl.style.display =\n",
              "        google.colab.kernel.accessAllowed ? 'block' : 'none';\n",
              "\n",
              "      async function convertToInteractive(key) {\n",
              "        const element = document.querySelector('#df-907f3617-87a2-4b70-b9bd-9e7f489c3c9e');\n",
              "        const dataTable =\n",
              "          await google.colab.kernel.invokeFunction('convertToInteractive',\n",
              "                                                    [key], {});\n",
              "        if (!dataTable) return;\n",
              "\n",
              "        const docLinkHtml = 'Like what you see? Visit the ' +\n",
              "          '<a target=\"_blank\" href=https://colab.research.google.com/notebooks/data_table.ipynb>data table notebook</a>'\n",
              "          + ' to learn more about interactive tables.';\n",
              "        element.innerHTML = '';\n",
              "        dataTable['output_type'] = 'display_data';\n",
              "        await google.colab.output.renderOutput(dataTable, element);\n",
              "        const docLink = document.createElement('div');\n",
              "        docLink.innerHTML = docLinkHtml;\n",
              "        element.appendChild(docLink);\n",
              "      }\n",
              "    </script>\n",
              "  </div>\n",
              "\n",
              "\n",
              "<div id=\"df-b341f57c-d822-4640-a627-5d60929b5c6c\">\n",
              "  <button class=\"colab-df-quickchart\" onclick=\"quickchart('df-b341f57c-d822-4640-a627-5d60929b5c6c')\"\n",
              "            title=\"Suggest charts\"\n",
              "            style=\"display:none;\">\n",
              "\n",
              "<svg xmlns=\"http://www.w3.org/2000/svg\" height=\"24px\"viewBox=\"0 0 24 24\"\n",
              "     width=\"24px\">\n",
              "    <g>\n",
              "        <path d=\"M19 3H5c-1.1 0-2 .9-2 2v14c0 1.1.9 2 2 2h14c1.1 0 2-.9 2-2V5c0-1.1-.9-2-2-2zM9 17H7v-7h2v7zm4 0h-2V7h2v10zm4 0h-2v-4h2v4z\"/>\n",
              "    </g>\n",
              "</svg>\n",
              "  </button>\n",
              "\n",
              "<style>\n",
              "  .colab-df-quickchart {\n",
              "      --bg-color: #E8F0FE;\n",
              "      --fill-color: #1967D2;\n",
              "      --hover-bg-color: #E2EBFA;\n",
              "      --hover-fill-color: #174EA6;\n",
              "      --disabled-fill-color: #AAA;\n",
              "      --disabled-bg-color: #DDD;\n",
              "  }\n",
              "\n",
              "  [theme=dark] .colab-df-quickchart {\n",
              "      --bg-color: #3B4455;\n",
              "      --fill-color: #D2E3FC;\n",
              "      --hover-bg-color: #434B5C;\n",
              "      --hover-fill-color: #FFFFFF;\n",
              "      --disabled-bg-color: #3B4455;\n",
              "      --disabled-fill-color: #666;\n",
              "  }\n",
              "\n",
              "  .colab-df-quickchart {\n",
              "    background-color: var(--bg-color);\n",
              "    border: none;\n",
              "    border-radius: 50%;\n",
              "    cursor: pointer;\n",
              "    display: none;\n",
              "    fill: var(--fill-color);\n",
              "    height: 32px;\n",
              "    padding: 0;\n",
              "    width: 32px;\n",
              "  }\n",
              "\n",
              "  .colab-df-quickchart:hover {\n",
              "    background-color: var(--hover-bg-color);\n",
              "    box-shadow: 0 1px 2px rgba(60, 64, 67, 0.3), 0 1px 3px 1px rgba(60, 64, 67, 0.15);\n",
              "    fill: var(--button-hover-fill-color);\n",
              "  }\n",
              "\n",
              "  .colab-df-quickchart-complete:disabled,\n",
              "  .colab-df-quickchart-complete:disabled:hover {\n",
              "    background-color: var(--disabled-bg-color);\n",
              "    fill: var(--disabled-fill-color);\n",
              "    box-shadow: none;\n",
              "  }\n",
              "\n",
              "  .colab-df-spinner {\n",
              "    border: 2px solid var(--fill-color);\n",
              "    border-color: transparent;\n",
              "    border-bottom-color: var(--fill-color);\n",
              "    animation:\n",
              "      spin 1s steps(1) infinite;\n",
              "  }\n",
              "\n",
              "  @keyframes spin {\n",
              "    0% {\n",
              "      border-color: transparent;\n",
              "      border-bottom-color: var(--fill-color);\n",
              "      border-left-color: var(--fill-color);\n",
              "    }\n",
              "    20% {\n",
              "      border-color: transparent;\n",
              "      border-left-color: var(--fill-color);\n",
              "      border-top-color: var(--fill-color);\n",
              "    }\n",
              "    30% {\n",
              "      border-color: transparent;\n",
              "      border-left-color: var(--fill-color);\n",
              "      border-top-color: var(--fill-color);\n",
              "      border-right-color: var(--fill-color);\n",
              "    }\n",
              "    40% {\n",
              "      border-color: transparent;\n",
              "      border-right-color: var(--fill-color);\n",
              "      border-top-color: var(--fill-color);\n",
              "    }\n",
              "    60% {\n",
              "      border-color: transparent;\n",
              "      border-right-color: var(--fill-color);\n",
              "    }\n",
              "    80% {\n",
              "      border-color: transparent;\n",
              "      border-right-color: var(--fill-color);\n",
              "      border-bottom-color: var(--fill-color);\n",
              "    }\n",
              "    90% {\n",
              "      border-color: transparent;\n",
              "      border-bottom-color: var(--fill-color);\n",
              "    }\n",
              "  }\n",
              "</style>\n",
              "\n",
              "  <script>\n",
              "    async function quickchart(key) {\n",
              "      const quickchartButtonEl =\n",
              "        document.querySelector('#' + key + ' button');\n",
              "      quickchartButtonEl.disabled = true;  // To prevent multiple clicks.\n",
              "      quickchartButtonEl.classList.add('colab-df-spinner');\n",
              "      try {\n",
              "        const charts = await google.colab.kernel.invokeFunction(\n",
              "            'suggestCharts', [key], {});\n",
              "      } catch (error) {\n",
              "        console.error('Error during call to suggestCharts:', error);\n",
              "      }\n",
              "      quickchartButtonEl.classList.remove('colab-df-spinner');\n",
              "      quickchartButtonEl.classList.add('colab-df-quickchart-complete');\n",
              "    }\n",
              "    (() => {\n",
              "      let quickchartButtonEl =\n",
              "        document.querySelector('#df-b341f57c-d822-4640-a627-5d60929b5c6c button');\n",
              "      quickchartButtonEl.style.display =\n",
              "        google.colab.kernel.accessAllowed ? 'block' : 'none';\n",
              "    })();\n",
              "  </script>\n",
              "</div>\n",
              "\n",
              "    </div>\n",
              "  </div>\n"
            ],
            "application/vnd.google.colaboratory.intrinsic+json": {
              "type": "dataframe",
              "variable_name": "df",
              "summary": "{\n  \"name\": \"df\",\n  \"rows\": 3470,\n  \"fields\": [\n    {\n      \"column\": \"Description\",\n      \"properties\": {\n        \"dtype\": \"string\",\n        \"num_unique_values\": 3368,\n        \"samples\": [\n          \"Hair color rinse\",\n          \"Ingles Markets\",\n          \"VASAGLE LOWELL Storage Cabinet, Cupboard, Multipurpose Cabinet, 3 Open Shelves and Closed Compartments, for Kitchen, Living Room, Bedroom, Industrial Style, Rustic Brown and Black ULSC\"\n        ],\n        \"semantic_type\": \"\",\n        \"description\": \"\"\n      }\n    },\n    {\n      \"column\": \"Category\",\n      \"properties\": {\n        \"dtype\": \"category\",\n        \"num_unique_values\": 15,\n        \"samples\": [\n          \"Kids\",\n          \"Medical\",\n          \"Food\"\n        ],\n        \"semantic_type\": \"\",\n        \"description\": \"\"\n      }\n    },\n    {\n      \"column\": \"Sub_Category\",\n      \"properties\": {\n        \"dtype\": \"category\",\n        \"num_unique_values\": 42,\n        \"samples\": [\n          \"Baby\",\n          \"Flights\",\n          \"Gas_Power\"\n        ],\n        \"semantic_type\": \"\",\n        \"description\": \"\"\n      }\n    }\n  ]\n}"
            }
          },
          "metadata": {},
          "execution_count": 3
        }
      ]
    },
    {
      "cell_type": "code",
      "source": [
        "tokenizer = Tokenizer()\n",
        "tokenizer.fit_on_texts(df['Description'])"
      ],
      "metadata": {
        "id": "QHOngvLdNNOb"
      },
      "execution_count": 4,
      "outputs": []
    },
    {
      "cell_type": "code",
      "source": [
        "def augment_text(text):\n",
        "    tokens = text.split()\n",
        "    if len(tokens) > 1:\n",
        "        tf.random.shuffle(tokens)\n",
        "    return ' '.join(tokens)"
      ],
      "metadata": {
        "id": "lRbk7MG5NlP1"
      },
      "execution_count": 5,
      "outputs": []
    },
    {
      "cell_type": "code",
      "source": [
        "augmented_texts = []\n",
        "for text in df['Description']:\n",
        "    augmented_texts.append(augment_text(text))"
      ],
      "metadata": {
        "id": "GiDWQA2_Np0I"
      },
      "execution_count": 6,
      "outputs": []
    },
    {
      "cell_type": "code",
      "source": [
        "augmented_data = pd.DataFrame({\n",
        "    'description': list(df['Description']) + augmented_texts,\n",
        "    'category': list(df['Category']) * 2\n",
        "})"
      ],
      "metadata": {
        "id": "aj5VhxRoOQQU"
      },
      "execution_count": 7,
      "outputs": []
    },
    {
      "cell_type": "code",
      "source": [
        "augmented_data = shuffle(augmented_data).reset_index(drop=True)\n",
        "data = augmented_data"
      ],
      "metadata": {
        "id": "yIvDvz4IOmRB"
      },
      "execution_count": 8,
      "outputs": []
    },
    {
      "cell_type": "code",
      "source": [
        "print(data)"
      ],
      "metadata": {
        "colab": {
          "base_uri": "https://localhost:8080/"
        },
        "id": "GwXLE_PZObvF",
        "outputId": "7d087d13-90d3-4277-83fd-d88070e5e391"
      },
      "execution_count": 9,
      "outputs": [
        {
          "output_type": "stream",
          "name": "stdout",
          "text": [
            "                                            description     category\n",
            "0                                            LG Stylo 6  Electronics\n",
            "1                                          Google Fiber    Utilities\n",
            "2                                           Whataburger         Food\n",
            "3          Mophie Powerstation Plus XL Portable Charger  Electronics\n",
            "4                                 Fairmont Copley Plaza     Vacation\n",
            "...                                                 ...          ...\n",
            "6935                                  New Balance 990v3      Clothes\n",
            "6936                             Apple iPhone SE (2020)  Electronics\n",
            "6937                                    Fila Ray Tracer      Clothes\n",
            "6938  Simple Joys by Carter's Baby Girls' 6-Pack Sho...      Clothes\n",
            "6939  Continental Elite Timing Belt Kit with Water Pump         Auto\n",
            "\n",
            "[6940 rows x 2 columns]\n"
          ]
        }
      ]
    },
    {
      "cell_type": "code",
      "source": [
        "label_encoder = LabelEncoder()\n",
        "\n",
        "data['Label_Encoded'] = label_encoder.fit_transform(data['category'])\n",
        "\n",
        "print(data)"
      ],
      "metadata": {
        "colab": {
          "base_uri": "https://localhost:8080/"
        },
        "id": "-DC1SQTOAR6n",
        "outputId": "40d5789e-acbd-468f-9e3a-e054d4745ba6"
      },
      "execution_count": 12,
      "outputs": [
        {
          "output_type": "stream",
          "name": "stdout",
          "text": [
            "                                            description     category  \\\n",
            "0                                            LG Stylo 6  Electronics   \n",
            "1                                          Google Fiber    Utilities   \n",
            "2                                           Whataburger         Food   \n",
            "3          Mophie Powerstation Plus XL Portable Charger  Electronics   \n",
            "4                                 Fairmont Copley Plaza     Vacation   \n",
            "...                                                 ...          ...   \n",
            "6935                                  New Balance 990v3      Clothes   \n",
            "6936                             Apple iPhone SE (2020)  Electronics   \n",
            "6937                                    Fila Ray Tracer      Clothes   \n",
            "6938  Simple Joys by Carter's Baby Girls' 6-Pack Sho...      Clothes   \n",
            "6939  Continental Elite Timing Belt Kit with Water Pump         Auto   \n",
            "\n",
            "      Label_Encoded  \n",
            "0                 3  \n",
            "1                13  \n",
            "2                 5  \n",
            "3                 3  \n",
            "4                14  \n",
            "...             ...  \n",
            "6935              1  \n",
            "6936              3  \n",
            "6937              1  \n",
            "6938              1  \n",
            "6939              0  \n",
            "\n",
            "[6940 rows x 3 columns]\n"
          ]
        }
      ]
    },
    {
      "cell_type": "code",
      "source": [
        "labels = data['Label_Encoded'].to_numpy()\n",
        "sentences = data['description'].to_numpy()\n",
        "\n",
        "# Create the dataset\n",
        "dataset = tf.data.Dataset.from_tensor_slices((sentences, labels))\n",
        "\n",
        "# Get the first 5 elements of the dataset\n",
        "examples = list(dataset.take(5))\n",
        "\n",
        "print(f\"dataset contains {len(dataset)} examples\\n\")\n",
        "\n",
        "print(f\"Text of second example look like this: {examples[1][0].numpy().decode('utf-8')}\\n\")\n",
        "print(f\"Labels of first 5 examples look like this: {[x[1].numpy() for x in examples]}\")"
      ],
      "metadata": {
        "colab": {
          "base_uri": "https://localhost:8080/"
        },
        "id": "JtJpELAxtZU3",
        "outputId": "7eaea379-c7b8-4553-c282-3c2087146b43"
      },
      "execution_count": 13,
      "outputs": [
        {
          "output_type": "stream",
          "name": "stdout",
          "text": [
            "dataset contains 6940 examples\n",
            "\n",
            "Text of second example look like this: Google Fiber\n",
            "\n",
            "Labels of first 5 examples look like this: [3, 13, 5, 3, 14]\n"
          ]
        }
      ]
    },
    {
      "cell_type": "code",
      "source": [
        "def train_val_datasets(dataset):\n",
        "    train_size = int(len(dataset) * TRAINING_SPLIT)\n",
        "\n",
        "    # Split the sentences and labels into train/validation splits\n",
        "    train_dataset = dataset.take(train_size)\n",
        "    validation_dataset = dataset.skip(train_size)\n",
        "\n",
        "    # Turn the dataset into a batched dataset with num_batches batches\n",
        "    train_dataset = train_dataset.batch(NUM_BATCHES)\n",
        "    validation_dataset = validation_dataset.batch(NUM_BATCHES)\n",
        "\n",
        "    return train_dataset, validation_dataset"
      ],
      "metadata": {
        "id": "oaKLzC0Vvk8Q"
      },
      "execution_count": 14,
      "outputs": []
    },
    {
      "cell_type": "code",
      "source": [
        "# Create the train and validation datasets\n",
        "train_dataset, validation_dataset = train_val_datasets(dataset)\n",
        "\n",
        "print(f\"There are {len(train_dataset)} batches for a total of {NUM_BATCHES*len(train_dataset)} elements for training.\\n\")\n",
        "print(f\"There are {len(validation_dataset)} batches for a total of {NUM_BATCHES*len(validation_dataset)} elements for validation.\\n\")"
      ],
      "metadata": {
        "colab": {
          "base_uri": "https://localhost:8080/"
        },
        "id": "rXyI15aPvrPX",
        "outputId": "c14996d3-bdb7-40ad-f7d8-ef76a9d224ac"
      },
      "execution_count": 15,
      "outputs": [
        {
          "output_type": "stream",
          "name": "stdout",
          "text": [
            "There are 49 batches for a total of 6272 elements for training.\n",
            "\n",
            "There are 6 batches for a total of 768 elements for validation.\n",
            "\n"
          ]
        }
      ]
    },
    {
      "cell_type": "code",
      "source": [
        "def fit_vectorizer(dataset):\n",
        "    vectorizer = tf.keras.layers.TextVectorization(\n",
        "        output_sequence_length=MAX_LENGTH,  # Desired length of output sequences\n",
        "    )\n",
        "\n",
        "    # Fit the tokenizer to the training sentences\n",
        "    vectorizer.adapt(dataset)\n",
        "\n",
        "    return vectorizer"
      ],
      "metadata": {
        "id": "F5kOS4Xjvx-S"
      },
      "execution_count": 17,
      "outputs": []
    },
    {
      "cell_type": "code",
      "source": [
        "# Get only the texts out of the dataset\n",
        "text_only_dataset = train_dataset.map(lambda text, label: text)\n",
        "\n",
        "# Adapt the vectorizer to the training sentences\n",
        "vectorizer = fit_vectorizer(text_only_dataset)\n",
        "\n",
        "# Check size of vocabulary\n",
        "vocab_size = vectorizer.vocabulary_size()\n",
        "\n",
        "print(f\"Vocabulary contains {vocab_size} words\\n\")"
      ],
      "metadata": {
        "colab": {
          "base_uri": "https://localhost:8080/"
        },
        "id": "pPMoX-1yvzGh",
        "outputId": "ce879064-9bdb-4779-a7a5-a54636b8cfb4"
      },
      "execution_count": 18,
      "outputs": [
        {
          "output_type": "stream",
          "name": "stdout",
          "text": [
            "Vocabulary contains 4439 words\n",
            "\n"
          ]
        }
      ]
    },
    {
      "cell_type": "code",
      "source": [
        "# Apply vectorization to train and val datasets\n",
        "train_dataset_vectorized = train_dataset.map(lambda x,y: (vectorizer(x), y))\n",
        "validation_dataset_vectorized = validation_dataset.map(lambda x,y: (vectorizer(x), y))"
      ],
      "metadata": {
        "id": "yw9gfjdCv5sr"
      },
      "execution_count": 19,
      "outputs": []
    },
    {
      "cell_type": "code",
      "source": [
        "# Define path to file containing the embeddings\n",
        "glove_file = './glove.6B.100d.txt'\n",
        "\n",
        "# Initialize an empty embeddings index dictionary\n",
        "glove_embeddings = {}\n",
        "\n",
        "# Read file and fill glove_embeddings with its contents\n",
        "with open(glove_file) as f:\n",
        "    for line in f:\n",
        "        values = line.split()\n",
        "        word = values[0]\n",
        "        coefs = np.asarray(values[1:], dtype='float32')\n",
        "        glove_embeddings[word] = coefs"
      ],
      "metadata": {
        "id": "ckUXMPhcwK6I"
      },
      "execution_count": 20,
      "outputs": []
    },
    {
      "cell_type": "code",
      "source": [
        "test_word = 'burger'\n",
        "\n",
        "test_vector = glove_embeddings[test_word]\n",
        "\n",
        "print(f\"Vector representation of word {test_word} looks like this:\\n\\n{test_vector}\")"
      ],
      "metadata": {
        "colab": {
          "base_uri": "https://localhost:8080/"
        },
        "id": "6c5avbdGwglO",
        "outputId": "4fd93af2-a260-4563-f739-f4fad732b804"
      },
      "execution_count": 22,
      "outputs": [
        {
          "output_type": "stream",
          "name": "stdout",
          "text": [
            "Vector representation of word burger looks like this:\n",
            "\n",
            "[ 0.33133  -0.27067  -0.13907  -0.088709 -0.043864  0.063834  0.25138\n",
            " -0.091424 -0.1784   -0.68607  -0.21564   0.18211  -0.23288   0.34244\n",
            "  0.18765   0.42714   0.090041 -0.38193  -0.86077   0.10677   0.97605\n",
            "  0.33179  -0.22349  -0.6037    0.3639    1.1531    0.57479  -0.26689\n",
            " -0.2192    0.27449   0.58477   0.72972   0.55298  -0.54246   0.41626\n",
            "  0.80416   0.016013  0.12076  -0.14406  -1.3187    1.0801    0.072487\n",
            " -0.151    -0.84384   0.072104  0.80528  -0.5371   -0.58189   0.2129\n",
            "  0.19258   0.022321 -0.21964  -0.90854   0.033854 -0.74511  -0.71059\n",
            " -0.40855   0.64035   0.1504   -0.036281  0.18085  -0.47587   0.90079\n",
            "  0.12859   0.16879  -0.47241  -0.49883   0.57205  -0.30949   0.088298\n",
            " -0.13453   0.16067   0.26489   0.097569 -0.32744  -0.26541  -0.89286\n",
            "  0.1455   -0.079116  0.78621   0.23043  -0.48585  -0.066305  0.62033\n",
            " -0.3532   -0.80811  -0.42646  -0.6372   -0.51965  -0.29796   0.43657\n",
            "  0.19157   0.059287 -0.13863  -0.50692  -0.3477    0.46988  -0.22711\n",
            "  0.58617   0.28682 ]\n"
          ]
        }
      ]
    },
    {
      "cell_type": "code",
      "source": [
        "print(f\"Each word vector has shape: {test_vector.shape}\")"
      ],
      "metadata": {
        "colab": {
          "base_uri": "https://localhost:8080/"
        },
        "id": "NmMuiAYAwnHI",
        "outputId": "02ad14f4-67a2-4b14-ecfe-2436f8cd27e2"
      },
      "execution_count": 23,
      "outputs": [
        {
          "output_type": "stream",
          "name": "stdout",
          "text": [
            "Each word vector has shape: (100,)\n"
          ]
        }
      ]
    },
    {
      "cell_type": "code",
      "source": [
        "# Create a word index dictionary\n",
        "word_index = {x:i for i,x in enumerate(vectorizer.get_vocabulary())}\n",
        "\n",
        "print(f\"The word burger is encoded as: {word_index['burger']}\")"
      ],
      "metadata": {
        "colab": {
          "base_uri": "https://localhost:8080/"
        },
        "id": "4WvTOtNQwsoz",
        "outputId": "36e7fe56-2026-43d2-cedc-ff979e284046"
      },
      "execution_count": 24,
      "outputs": [
        {
          "output_type": "stream",
          "name": "stdout",
          "text": [
            "The word burger is encoded as: 533\n"
          ]
        }
      ]
    },
    {
      "cell_type": "code",
      "source": [
        "# Initialize an empty numpy array with the appropriate size\n",
        "embeddings_matrix = np.zeros((vocab_size, EMBEDDING_DIM))\n",
        "\n",
        "# Iterate all of the words in the vocabulary and if the vector representation for\n",
        "# each word exists within GloVe's representations, save it in the embeddings_matrix array\n",
        "for word, i in word_index.items():\n",
        "    embedding_vector = glove_embeddings.get(word)\n",
        "    if embedding_vector is not None:\n",
        "        embeddings_matrix[i] = embedding_vector"
      ],
      "metadata": {
        "id": "63JtKrqOw1t4"
      },
      "execution_count": 25,
      "outputs": []
    },
    {
      "cell_type": "code",
      "source": [
        "test_word = 'burger'\n",
        "\n",
        "test_word_id = word_index[test_word]\n",
        "\n",
        "test_vector_burger = glove_embeddings[test_word]\n",
        "\n",
        "test_embedding_burger = embeddings_matrix[test_word_id]\n",
        "\n",
        "both_equal = np.allclose(test_vector_burger,test_embedding_burger)\n",
        "\n",
        "print(f\"word: {test_word}, index: {test_word_id}\\n\\nEmbedding is equal to column {test_word_id} in the embeddings_matrix: {both_equal}\")"
      ],
      "metadata": {
        "colab": {
          "base_uri": "https://localhost:8080/"
        },
        "id": "9bNj7Q8GxIeW",
        "outputId": "e86367a6-4596-4e7f-c0ac-a756b6861fa6"
      },
      "execution_count": 26,
      "outputs": [
        {
          "output_type": "stream",
          "name": "stdout",
          "text": [
            "word: burger, index: 533\n",
            "\n",
            "Embedding is equal to column 533 in the embeddings_matrix: True\n"
          ]
        }
      ]
    },
    {
      "cell_type": "code",
      "source": [
        "def create_model(vocab_size, embedding_dim, embedding_matrix):\n",
        "    model = tf.keras.Sequential([\n",
        "        tf.keras.layers.Embedding(vocab_size,\n",
        "                                  embedding_dim,\n",
        "                                  embeddings_initializer=tf.keras.initializers.Constant(embedding_matrix),\n",
        "                                  trainable=False, # Keep the embeddings fixed\n",
        "                                  mask_zero=True), # Use masking to handle variable sequence lengths\n",
        "        tf.keras.layers.Bidirectional(tf.keras.layers.LSTM(64)), # Use a bidirectional LSTM for better context understanding\n",
        "        tf.keras.layers.Dense(64, activation='relu'), # Add a dense layer for feature extraction\n",
        "        tf.keras.layers.Dense(15, activation='softmax') # Output layer with softmax for multi-class classification\n",
        "    ])\n",
        "\n",
        "    model.compile(loss='sparse_categorical_crossentropy',\n",
        "                  optimizer='adam',\n",
        "                  metrics=['accuracy'])\n",
        "\n",
        "    return model"
      ],
      "metadata": {
        "id": "G-m9WHV2xWGx"
      },
      "execution_count": 28,
      "outputs": []
    },
    {
      "cell_type": "code",
      "source": [
        "model = create_model(vocab_size, EMBEDDING_DIM, embeddings_matrix)"
      ],
      "metadata": {
        "id": "UgEbeizixkTW"
      },
      "execution_count": 29,
      "outputs": []
    },
    {
      "cell_type": "code",
      "source": [
        "# Take an example batch of data\n",
        "example_batch = train_dataset_vectorized.take(1)\n",
        "\n",
        "try:\n",
        "\tmodel.evaluate(example_batch, verbose=False)\n",
        "except:\n",
        "\tprint(\"Your model is not compatible with the dataset you defined earlier. Check that the loss function and last layer are compatible with one another.\")\n",
        "else:\n",
        "\tpredictions = model.predict(example_batch, verbose=False)\n",
        "\tprint(f\"predictions have shape: {predictions.shape}\")"
      ],
      "metadata": {
        "colab": {
          "base_uri": "https://localhost:8080/"
        },
        "id": "qwEJFaqfxtki",
        "outputId": "b2518a09-815b-43cb-ded5-16cb3962427a"
      },
      "execution_count": 30,
      "outputs": [
        {
          "output_type": "stream",
          "name": "stdout",
          "text": [
            "predictions have shape: (128, 15)\n"
          ]
        }
      ]
    },
    {
      "cell_type": "code",
      "source": [
        "# Train the model and save the training history\n",
        "history = model.fit(\n",
        "\ttrain_dataset_vectorized,\n",
        "\tepochs=20,\n",
        "\tvalidation_data=validation_dataset_vectorized\n",
        ")"
      ],
      "metadata": {
        "colab": {
          "base_uri": "https://localhost:8080/"
        },
        "id": "c7PQgh2ZD3Z5",
        "outputId": "c04d2eee-eb5f-4dc1-c74b-f9d9914339d3"
      },
      "execution_count": 31,
      "outputs": [
        {
          "output_type": "stream",
          "name": "stdout",
          "text": [
            "Epoch 1/20\n",
            "\u001b[1m49/49\u001b[0m \u001b[32m━━━━━━━━━━━━━━━━━━━━\u001b[0m\u001b[37m\u001b[0m \u001b[1m12s\u001b[0m 139ms/step - accuracy: 0.3276 - loss: 2.3229 - val_accuracy: 0.6657 - val_loss: 1.1536\n",
            "Epoch 2/20\n",
            "\u001b[1m49/49\u001b[0m \u001b[32m━━━━━━━━━━━━━━━━━━━━\u001b[0m\u001b[37m\u001b[0m \u001b[1m10s\u001b[0m 125ms/step - accuracy: 0.7103 - loss: 0.9848 - val_accuracy: 0.8141 - val_loss: 0.6413\n",
            "Epoch 3/20\n",
            "\u001b[1m49/49\u001b[0m \u001b[32m━━━━━━━━━━━━━━━━━━━━\u001b[0m\u001b[37m\u001b[0m \u001b[1m8s\u001b[0m 163ms/step - accuracy: 0.8168 - loss: 0.6041 - val_accuracy: 0.8746 - val_loss: 0.4642\n",
            "Epoch 4/20\n",
            "\u001b[1m49/49\u001b[0m \u001b[32m━━━━━━━━━━━━━━━━━━━━\u001b[0m\u001b[37m\u001b[0m \u001b[1m6s\u001b[0m 115ms/step - accuracy: 0.8726 - loss: 0.4424 - val_accuracy: 0.8991 - val_loss: 0.3734\n",
            "Epoch 5/20\n",
            "\u001b[1m49/49\u001b[0m \u001b[32m━━━━━━━━━━━━━━━━━━━━\u001b[0m\u001b[37m\u001b[0m \u001b[1m8s\u001b[0m 166ms/step - accuracy: 0.8970 - loss: 0.3542 - val_accuracy: 0.9135 - val_loss: 0.3191\n",
            "Epoch 6/20\n",
            "\u001b[1m49/49\u001b[0m \u001b[32m━━━━━━━━━━━━━━━━━━━━\u001b[0m\u001b[37m\u001b[0m \u001b[1m6s\u001b[0m 120ms/step - accuracy: 0.9157 - loss: 0.2955 - val_accuracy: 0.9251 - val_loss: 0.2687\n",
            "Epoch 7/20\n",
            "\u001b[1m49/49\u001b[0m \u001b[32m━━━━━━━━━━━━━━━━━━━━\u001b[0m\u001b[37m\u001b[0m \u001b[1m7s\u001b[0m 151ms/step - accuracy: 0.9288 - loss: 0.2517 - val_accuracy: 0.9424 - val_loss: 0.2296\n",
            "Epoch 8/20\n",
            "\u001b[1m49/49\u001b[0m \u001b[32m━━━━━━━━━━━━━━━━━━━━\u001b[0m\u001b[37m\u001b[0m \u001b[1m9s\u001b[0m 119ms/step - accuracy: 0.9362 - loss: 0.2175 - val_accuracy: 0.9553 - val_loss: 0.1979\n",
            "Epoch 9/20\n",
            "\u001b[1m49/49\u001b[0m \u001b[32m━━━━━━━━━━━━━━━━━━━━\u001b[0m\u001b[37m\u001b[0m \u001b[1m9s\u001b[0m 188ms/step - accuracy: 0.9465 - loss: 0.1905 - val_accuracy: 0.9553 - val_loss: 0.1748\n",
            "Epoch 10/20\n",
            "\u001b[1m49/49\u001b[0m \u001b[32m━━━━━━━━━━━━━━━━━━━━\u001b[0m\u001b[37m\u001b[0m \u001b[1m6s\u001b[0m 118ms/step - accuracy: 0.9531 - loss: 0.1670 - val_accuracy: 0.9582 - val_loss: 0.1561\n",
            "Epoch 11/20\n",
            "\u001b[1m49/49\u001b[0m \u001b[32m━━━━━━━━━━━━━━━━━━━━\u001b[0m\u001b[37m\u001b[0m \u001b[1m11s\u001b[0m 122ms/step - accuracy: 0.9589 - loss: 0.1490 - val_accuracy: 0.9654 - val_loss: 0.1441\n",
            "Epoch 12/20\n",
            "\u001b[1m49/49\u001b[0m \u001b[32m━━━━━━━━━━━━━━━━━━━━\u001b[0m\u001b[37m\u001b[0m \u001b[1m13s\u001b[0m 180ms/step - accuracy: 0.9624 - loss: 0.1346 - val_accuracy: 0.9640 - val_loss: 0.1320\n",
            "Epoch 13/20\n",
            "\u001b[1m49/49\u001b[0m \u001b[32m━━━━━━━━━━━━━━━━━━━━\u001b[0m\u001b[37m\u001b[0m \u001b[1m9s\u001b[0m 175ms/step - accuracy: 0.9633 - loss: 0.1250 - val_accuracy: 0.9654 - val_loss: 0.1382\n",
            "Epoch 14/20\n",
            "\u001b[1m49/49\u001b[0m \u001b[32m━━━━━━━━━━━━━━━━━━━━\u001b[0m\u001b[37m\u001b[0m \u001b[1m8s\u001b[0m 121ms/step - accuracy: 0.9621 - loss: 0.1250 - val_accuracy: 0.9654 - val_loss: 0.1413\n",
            "Epoch 15/20\n",
            "\u001b[1m49/49\u001b[0m \u001b[32m━━━━━━━━━━━━━━━━━━━━\u001b[0m\u001b[37m\u001b[0m \u001b[1m6s\u001b[0m 130ms/step - accuracy: 0.9660 - loss: 0.1136 - val_accuracy: 0.9697 - val_loss: 0.1083\n",
            "Epoch 16/20\n",
            "\u001b[1m49/49\u001b[0m \u001b[32m━━━━━━━━━━━━━━━━━━━━\u001b[0m\u001b[37m\u001b[0m \u001b[1m8s\u001b[0m 156ms/step - accuracy: 0.9677 - loss: 0.1056 - val_accuracy: 0.9683 - val_loss: 0.1044\n",
            "Epoch 17/20\n",
            "\u001b[1m49/49\u001b[0m \u001b[32m━━━━━━━━━━━━━━━━━━━━\u001b[0m\u001b[37m\u001b[0m \u001b[1m11s\u001b[0m 169ms/step - accuracy: 0.9686 - loss: 0.0995 - val_accuracy: 0.9712 - val_loss: 0.0973\n",
            "Epoch 18/20\n",
            "\u001b[1m49/49\u001b[0m \u001b[32m━━━━━━━━━━━━━━━━━━━━\u001b[0m\u001b[37m\u001b[0m \u001b[1m8s\u001b[0m 116ms/step - accuracy: 0.9695 - loss: 0.0958 - val_accuracy: 0.9741 - val_loss: 0.0922\n",
            "Epoch 19/20\n",
            "\u001b[1m49/49\u001b[0m \u001b[32m━━━━━━━━━━━━━━━━━━━━\u001b[0m\u001b[37m\u001b[0m \u001b[1m8s\u001b[0m 168ms/step - accuracy: 0.9695 - loss: 0.0928 - val_accuracy: 0.9741 - val_loss: 0.0866\n",
            "Epoch 20/20\n",
            "\u001b[1m49/49\u001b[0m \u001b[32m━━━━━━━━━━━━━━━━━━━━\u001b[0m\u001b[37m\u001b[0m \u001b[1m8s\u001b[0m 121ms/step - accuracy: 0.9725 - loss: 0.0906 - val_accuracy: 0.9755 - val_loss: 0.0840\n"
          ]
        }
      ]
    },
    {
      "cell_type": "code",
      "source": [
        "# Get training and validation accuracies\n",
        "acc = history.history['accuracy']\n",
        "val_acc = history.history['val_accuracy']\n",
        "loss = history.history['loss']\n",
        "val_loss = history.history['val_loss']\n",
        "\n",
        "# Get number of epochs\n",
        "epochs = range(len(acc))\n",
        "\n",
        "fig, ax = plt.subplots(1, 2, figsize=(10, 5))\n",
        "fig.suptitle('Training and validation performance')\n",
        "\n",
        "for i, (data, label) in enumerate(zip([(acc, val_acc), (loss, val_loss)], [\"Accuracy\", \"Loss\"])):\n",
        "    ax[i].plot(epochs, data[0], 'r', label=\"Training \" + label)\n",
        "    ax[i].plot(epochs, data[1], 'b', label=\"Validation \" + label)\n",
        "    ax[i].legend()\n",
        "    ax[i].set_xlabel('epochs')"
      ],
      "metadata": {
        "colab": {
          "base_uri": "https://localhost:8080/",
          "height": 515
        },
        "id": "gx-R_tAiEJmZ",
        "outputId": "f67957ce-b2e7-4499-f476-5a2bc4bb067e"
      },
      "execution_count": 32,
      "outputs": [
        {
          "output_type": "display_data",
          "data": {
            "text/plain": [
              "<Figure size 1000x500 with 2 Axes>"
            ],
            "image/png": "[encoded data removed]"
          },
          "metadata": {}
        }
      ]
    }
  ]
}